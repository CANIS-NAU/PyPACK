{
 "cells": [
  {
   "cell_type": "code",
   "execution_count": 17,
   "metadata": {},
   "outputs": [],
   "source": [
    "import libpypack\n",
    "from libpypack.locations import map_locations\n",
    "from libpypack.visualization import generate_maps\n",
    "from libpypack.visualization import heatmap\n",
    "from libpypack.visualization import choropleth\n",
    "\n",
    "import gmplot\n",
    "import docker\n",
    "import requests\n",
    "import tarfile\n",
    "import os\n",
    "import geopandas"
   ]
  },
  {
   "cell_type": "code",
   "execution_count": 43,
   "metadata": {},
   "outputs": [
    {
     "data": {
      "text/plain": [
       "['Text', 'URLs']"
      ]
     },
     "execution_count": 43,
     "metadata": {},
     "output_type": "execute_result"
    }
   ],
   "source": [
    "import pandas as pd\n",
    "# df = pd.read_csv(\"/Users/thatcher/Documents/GraduateSchool/Thesis/FORKS/PyPACK/test_data/Swing_States.csv\")\n",
    "# df\n",
    "\n",
    "df=pd.read_csv(\"/Users/thatcher/Documents/GraduateSchool/Thesis/FORKS/PyPACK/test_data/Swing_States.csv\", sep=',', nrows=0)\n",
    "x = list(df.columns.values)\n",
    "x\n",
    "\n",
    "\n"
   ]
  },
  {
   "cell_type": "code",
   "execution_count": 19,
   "metadata": {},
   "outputs": [],
   "source": [
    "tweet_df = map_locations.locations_df(\"/Users/thatcher/Documents/GraduateSchool/Thesis/FORKS/PyPACK/test_data/Swing_States.csv\", output_dir=\"/Users/thatcher/Desktop\", df_column=\"Text\", sep=' ')\n",
    "# over_gdf = generate_maps.generate_overlay_gdf(tweet_df, filename=\"/Users/thatcher/Documents/GraduateSchool/Thesis/FORKS/PyPACK/libpypack/examples/states_21basic/states.shp\")\n",
    "# generate_maps.plot_gdf(over_gdf)\n",
    "# heatmap.heatmap(loc_gdf)\n",
    "# choropleth.choropleth_map(loc_gdf, shp_path=\"/Users/thatcher/Documents/GraduateSchool/Thesis/FORKS/PyPACK/libpypack/examples/states_21basic/states.shp\")"
   ]
  },
  {
   "cell_type": "code",
   "execution_count": 22,
   "metadata": {},
   "outputs": [],
   "source": [
    "loc_gdf = generate_maps.get_loc_gdf(tweet_df)"
   ]
  },
  {
   "cell_type": "code",
   "execution_count": 33,
   "metadata": {},
   "outputs": [
    {
     "name": "stdout",
     "output_type": "stream",
     "text": [
      "[(42.00027, -93.50049, 1), (44.25029, -85.50033, 1), (46.25024, -94.25055, 1), (40.25034, -83.00018, 1), (39.25021, -116.75119, 1), (43.66702, -71.4998, 1), (35.50069, -80.00032, 1), (40.27245, -76.90567, 1), (44.50024, -90.00041, 1)]\n"
     ]
    },
    {
     "data": {
      "text/html": [
       "<div style=\"width:100%;\"><div style=\"position:relative;width:100%;height:0;padding-bottom:60%;\"><iframe src=\"data:text/html;charset=utf-8;base64,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\" style=\"position:absolute;width:100%;height:100%;left:0;top:0;border:none !important;\" allowfullscreen webkitallowfullscreen mozallowfullscreen></iframe></div></div>"
      ],
      "text/plain": [
       "<folium.folium.Map at 0x2067c6828>"
      ]
     },
     "execution_count": 33,
     "metadata": {},
     "output_type": "execute_result"
    }
   ],
   "source": [
    "import folium\n",
    "import os\n",
    "from folium.plugins import HeatMap\n",
    "\n",
    "\n",
    "def heatmap(loc_gdf, column=\"Location Extracted\", heat_value=None, normalize_data=False, output_name='heatmap.html', output_dir=''):\n",
    "    locations = loc_gdf[column].value_counts().values\n",
    "    max_amount = float(locations.max())\n",
    "\n",
    "    if(normalize_data):\n",
    "        locations = loc_gdf['Location Extracted'].value_counts().values\n",
    "        print(locations)\n",
    "        normalized = (locations-locations.min())/(locations.max()-locations.min())\n",
    "\n",
    "        hmap = folium.Map(zoom_start=7)\n",
    "\n",
    "        hm_wides = HeatMap( list(zip(loc_gdf.Latitude.values, loc_gdf.Longitude.values, normalized)),\n",
    "                           min_opacity=0.2,\n",
    "                           radius=17, blur=15,\n",
    "                           max_zoom=1,\n",
    "                         )\n",
    "\n",
    "        hmap.add_child(hm_wides)\n",
    "        hmap.save(os.path.join(output_dir, output_name))\n",
    "\n",
    "        return hmap\n",
    "\n",
    "    else:\n",
    "\n",
    "        max_amount = float(locations.max())\n",
    "\n",
    "        hmap = folium.Map(zoom_start=7)\n",
    "        print(list(zip(loc_gdf.Latitude.values, loc_gdf.Longitude.values, locations)))\n",
    "        hm_wides = HeatMap( list(zip(loc_gdf.Latitude.values, loc_gdf.Longitude.values)),\n",
    "                           min_opacity=0.2,\n",
    "                           max_val=max_amount,\n",
    "                           radius=17, blur=15,\n",
    "                           max_zoom=1,\n",
    "                         )\n",
    "\n",
    "        hmap.add_child(hm_wides)\n",
    "        hmap.save(os.path.join(output_dir, output_name))\n",
    "\n",
    "        return hmap\n",
    "\n",
    "\n",
    "heat = heatmap(loc_gdf)\n",
    "heat"
   ]
  },
  {
   "cell_type": "code",
   "execution_count": null,
   "metadata": {},
   "outputs": [],
   "source": [
    "choropleth.choropleth_map(loc_gdf, shp_path=\"/Users/thatcher/Documents/GraduateSchool/Thesis/FORKS/PyPACK/libpypack/examples/states_21basic/states.shp\")"
   ]
  },
  {
   "cell_type": "code",
   "execution_count": 10,
   "metadata": {},
   "outputs": [
    {
     "ename": "NameError",
     "evalue": "name 'heattttmap' is not defined",
     "output_type": "error",
     "traceback": [
      "\u001b[0;31m---------------------------------------------------------------------------\u001b[0m",
      "\u001b[0;31mNameError\u001b[0m                                 Traceback (most recent call last)",
      "\u001b[0;32m<ipython-input-10-1f9460a43d98>\u001b[0m in \u001b[0;36m<module>\u001b[0;34m\u001b[0m\n\u001b[0;32m----> 1\u001b[0;31m \u001b[0mheattttmap\u001b[0m\u001b[0;34m\u001b[0m\u001b[0;34m\u001b[0m\u001b[0m\n\u001b[0m",
      "\u001b[0;31mNameError\u001b[0m: name 'heattttmap' is not defined"
     ]
    }
   ],
   "source": [
    "heat"
   ]
  },
  {
   "cell_type": "code",
   "execution_count": null,
   "metadata": {},
   "outputs": [],
   "source": []
  }
 ],
 "metadata": {
  "kernelspec": {
   "display_name": "Python 3",
   "language": "python",
   "name": "python3"
  },
  "language_info": {
   "codemirror_mode": {
    "name": "ipython",
    "version": 3
   },
   "file_extension": ".py",
   "mimetype": "text/x-python",
   "name": "python",
   "nbconvert_exporter": "python",
   "pygments_lexer": "ipython3",
   "version": "3.7.3"
  }
 },
 "nbformat": 4,
 "nbformat_minor": 2
}
